{
 "metadata": {
  "name": ""
 },
 "nbformat": 3,
 "nbformat_minor": 0,
 "worksheets": [
  {
   "cells": [
    {
     "cell_type": "code",
     "collapsed": false,
     "input": [
      "import MySQLdb\n",
      "db = MySQLdb.connect(\"localhost\",\"root\",\"fatigatti\",\"quehago\")\n",
      "\n",
      "\n",
      "\n"
     ],
     "language": "python",
     "metadata": {},
     "outputs": [],
     "prompt_number": 1
    },
    {
     "cell_type": "code",
     "collapsed": false,
     "input": [
      "cursor = db.cursor()\n",
      "cursor.execute(\"select * from usuarios\")\n",
      "\n",
      "bla = cursor.fetchall()\n",
      "for registro in bla:\n",
      "    for campo in registro:\n",
      "        print campo\n",
      "        \n"
     ],
     "language": "python",
     "metadata": {},
     "outputs": [
      {
       "output_type": "stream",
       "stream": "stdout",
       "text": [
        "190536889\n",
        "javoBahia\n",
        "0\n",
        "190536889-zMkjzjUBHdZ48MMCd1rMtN5xZVZAw5ER26oqhy5k\n",
        "50g1USgyl3t1NuMgYM6Nv5Ro6tmKH47EGVSY5DOLQg\n",
        "1\n"
       ]
      }
     ],
     "prompt_number": 6
    },
    {
     "cell_type": "code",
     "collapsed": false,
     "input": [],
     "language": "python",
     "metadata": {},
     "outputs": []
    }
   ],
   "metadata": {}
  }
 ]
}